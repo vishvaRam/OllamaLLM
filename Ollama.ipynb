{
 "cells": [
  {
   "cell_type": "code",
   "execution_count": 1,
   "metadata": {},
   "outputs": [],
   "source": [
    "from langchain_core.prompts import ChatPromptTemplate\n",
    "from langchain_core.output_parsers import StrOutputParser\n",
    "from langchain_community.llms import Ollama"
   ]
  },
  {
   "cell_type": "code",
   "execution_count": 2,
   "metadata": {},
   "outputs": [],
   "source": [
    "\n",
    "## Prompt Template\n",
    "\n",
    "prompt=ChatPromptTemplate.from_messages(\n",
    "    [\n",
    "        (\"system\",\"You are a helpful assistant. Please response to the user queries\"),\n",
    "        (\"user\",\"Question:{question}\")\n",
    "    ]\n",
    ")\n",
    "\n"
   ]
  },
  {
   "cell_type": "code",
   "execution_count": 12,
   "metadata": {},
   "outputs": [],
   "source": [
    "\n",
    "info = \"generate minutes of meeting for this conversation:\"\n",
    "\n",
    "\n",
    "conv = \"\"\"\n",
    "Alice: Good morning, everyone. Thanks for making it to the meeting. We have a few key points to cover today. First, I’d like to get an update on the development progress. Bob, how are things going on your end?\n",
    "\n",
    "Bob: Good morning, Alice. The development is on track. We’ve just finished the beta version of the new feature, and it’s ready for initial testing. However, we’ve encountered a few minor bugs that need fixing, which might take an extra couple of days.\n",
    "\n",
    "Alice: That sounds promising. Do you anticipate any major roadblocks that could delay the launch?\n",
    "\n",
    "Bob: No major roadblocks, but we need to ensure thorough testing to catch any issues before the release. I’ve also allocated extra resources to expedite the debugging process.\n",
    "\n",
    "Alice: Great to hear. Carol, how are the marketing preparations coming along?\n",
    "\n",
    "Carol: Good morning, everyone. We’re gearing up for the product launch. The marketing campaign is in its final stages. We have the social media strategy ready, and the email campaigns are scheduled. I’m working closely with the design team to finalize the promotional materials.\n",
    "\n",
    "Alice: Excellent. Have you planned any special promotions or events for the launch?\n",
    "\n",
    "Carol: Yes, we’re planning a live demo event next week, and we’ve lined up a few influencers to help spread the word. Additionally, we’ll be running a limited-time discount for early adopters to generate buzz and encourage quick sign-ups.\n",
    "\n",
    "Alice: That sounds comprehensive. Bob, do you think the development team can support the demo event next week in case we run into any technical issues?\n",
    "\n",
    "Bob: Absolutely. I’ll make sure we have a couple of team members on standby during the event to handle any technical problems that might arise.\n",
    "\n",
    "Alice: Perfect. Lastly, let’s discuss the timeline. Assuming we fix the bugs and the testing goes smoothly, are we still on track for the launch date?\n",
    "\n",
    "Bob: Yes, if everything goes as planned, we should be able to launch on the scheduled date. We’re pushing hard to make sure there are no delays.\n",
    "\n",
    "Carol: From a marketing perspective, we’re all set to align with the launch date. Everything is synced up to go live as soon as we get the green light from the development team.\n",
    "\n",
    "Alice: Wonderful. Let’s aim to reconvene later this week for a final check-in before the launch. Thanks for the updates, everyone. Let’s keep up the good work.\n",
    "\n",
    "Bob: Sounds good. I’ll keep you posted on the progress.\n",
    "\n",
    "Carol: Thanks, Alice. Looking forward to a successful launch.\n",
    "\n",
    "Alice: Great. Meeting adjourned. Have a productive day, everyone!\n",
    "\"\"\"\n"
   ]
  },
  {
   "cell_type": "code",
   "execution_count": 13,
   "metadata": {},
   "outputs": [
    {
     "data": {
      "text/plain": [
       "'Here are the minutes of the meeting:\\n\\n**Meeting Minutes**\\n\\n**Date:** [Current Date]\\n\\n**Attendees:** Alice, Bob, Carol\\n\\n**Objective:** To discuss the development progress, marketing preparations, and timeline for the upcoming product launch.\\n\\n**Key Points:**\\n\\n1. **Development Progress:** Bob reported that the beta version of the new feature is ready for initial testing, but there are a few minor bugs that need fixing (estimated 2-3 days).\\n2. **Marketing Preparations:** Carol stated that the marketing campaign is in its final stages, with social media strategy and email campaigns scheduled. She also planned a live demo event next week and has lined up influencers to help promote the product.\\n3. **Timeline:** Assuming no major issues arise, the development team is still on track for the launch date.\\n4. **Technical Support:** Bob assured that the development team will have personnel available to handle any technical issues during the demo event.\\n5. **Final Check-in:** The meeting concluded with a plan to reconvene later this week for a final check-in before the launch.\\n\\n**Action Items:**\\n\\n1. Bob will keep the team updated on the progress of fixing bugs and testing.\\n2. Carol will finalize promotional materials and prepare for the demo event.\\n3. Alice will schedule the next meeting for later this week to review the final preparations before the launch.\\n\\n**Next Steps:** The team will continue working towards the scheduled launch date, with a focus on bug-fixing and thorough testing.'"
      ]
     },
     "execution_count": 13,
     "metadata": {},
     "output_type": "execute_result"
    }
   ],
   "source": [
    "from langchain.callbacks.manager import CallbackManager\n",
    "from langchain.callbacks.streaming_stdout import StreamingStdOutCallbackHandler\n",
    "\n",
    "# ollama LLAma3 LLm \n",
    "llm=Ollama(model=\"llama3\" ) # type: ignore\n",
    "output_parser=StrOutputParser()\n",
    "chain=prompt|llm|output_parser\n",
    "\n",
    "chain.invoke({\"question\":info+conv})"
   ]
  },
  {
   "cell_type": "markdown",
   "metadata": {},
   "source": [
    "Here are the minutes of the meeting:\\n\\n\n",
    "**Meeting Minutes**\\n\\n**Date:** [Current Date]\\n\\n**Attendees:** Alice, Bob, Carol\\n\\n**Objective:** To discuss the development progress, marketing preparations, and timeline for the upcoming product launch.\\n\\n**Key Points:**\\n\\n1. **Development Progress:** Bob reported that the beta version of the new feature is ready for initial testing, but there are a few minor bugs that need fixing (estimated 2-3 days).\\n2. **Marketing Preparations:** Carol stated that the marketing campaign is in its final stages, with social media strategy and email campaigns scheduled. She also planned a live demo event next week and has lined up influencers to help promote the product.\\n3. **Timeline:** Assuming no major issues arise, the development team is still on track for the launch date.\\n4. **Technical Support:** Bob assured that the development team will have personnel available to handle any technical issues during the demo event.\\n5. **Final Check-in:** The meeting concluded with a plan to reconvene later this week for a final check-in before the launch.\\n\\n**Action Items:**\\n\\n1. Bob will keep the team updated on the progress of fixing bugs and testing.\\n2. Carol will finalize promotional materials and prepare for the demo event.\\n3. Alice will schedule the next meeting for later this week to review the final preparations before the launch.\\n\\n**Next Steps:** The team will continue working towards the scheduled launch date, with a focus on bug-fixing and thorough testing."
   ]
  }
 ],
 "metadata": {
  "kernelspec": {
   "display_name": "base",
   "language": "python",
   "name": "python3"
  },
  "language_info": {
   "codemirror_mode": {
    "name": "ipython",
    "version": 3
   },
   "file_extension": ".py",
   "mimetype": "text/x-python",
   "name": "python",
   "nbconvert_exporter": "python",
   "pygments_lexer": "ipython3",
   "version": "3.11.7"
  }
 },
 "nbformat": 4,
 "nbformat_minor": 2
}
