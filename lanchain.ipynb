{
 "cells": [
  {
   "cell_type": "code",
   "execution_count": 3,
   "metadata": {},
   "outputs": [],
   "source": [
    "\n",
    "info = \"generate minutes of meeting for this conversation:\"\n",
    "\n",
    "\n",
    "conv = \"\"\"\n",
    "Alice: Good morning, everyone. Thanks for making it to the meeting. We have a few key points to cover today. First, I’d like to get an update on the development progress. Bob, how are things going on your end?\n",
    "\n",
    "Bob: Good morning, Alice. The development is on track. We’ve just finished the beta version of the new feature, and it’s ready for initial testing. However, we’ve encountered a few minor bugs that need fixing, which might take an extra couple of days.\n",
    "\n",
    "Alice: That sounds promising. Do you anticipate any major roadblocks that could delay the launch?\n",
    "\n",
    "Bob: No major roadblocks, but we need to ensure thorough testing to catch any issues before the release. I’ve also allocated extra resources to expedite the debugging process.\n",
    "\n",
    "Alice: Great to hear. Carol, how are the marketing preparations coming along?\n",
    "\n",
    "Carol: Good morning, everyone. We’re gearing up for the product launch. The marketing campaign is in its final stages. We have the social media strategy ready, and the email campaigns are scheduled. I’m working closely with the design team to finalize the promotional materials.\n",
    "\n",
    "Alice: Excellent. Have you planned any special promotions or events for the launch?\n",
    "\n",
    "Carol: Yes, we’re planning a live demo event next week, and we’ve lined up a few influencers to help spread the word. Additionally, we’ll be running a limited-time discount for early adopters to generate buzz and encourage quick sign-ups.\n",
    "\n",
    "Alice: That sounds comprehensive. Bob, do you think the development team can support the demo event next week in case we run into any technical issues?\n",
    "\n",
    "Bob: Absolutely. I’ll make sure we have a couple of team members on standby during the event to handle any technical problems that might arise.\n",
    "\n",
    "Alice: Perfect. Lastly, let’s discuss the timeline. Assuming we fix the bugs and the testing goes smoothly, are we still on track for the launch date?\n",
    "\n",
    "Bob: Yes, if everything goes as planned, we should be able to launch on the scheduled date. We’re pushing hard to make sure there are no delays.\n",
    "\n",
    "Carol: From a marketing perspective, we’re all set to align with the launch date. Everything is synced up to go live as soon as we get the green light from the development team.\n",
    "\n",
    "Alice: Wonderful. Let’s aim to reconvene later this week for a final check-in before the launch. Thanks for the updates, everyone. Let’s keep up the good work.\n",
    "\n",
    "Bob: Sounds good. I’ll keep you posted on the progress.\n",
    "\n",
    "Carol: Thanks, Alice. Looking forward to a successful launch.\n",
    "\n",
    "Alice: Great. Meeting adjourned. Have a productive day, everyone!\n",
    "\"\"\"\n"
   ]
  },
  {
   "cell_type": "code",
   "execution_count": 19,
   "metadata": {},
   "outputs": [],
   "source": [
    "from langchain_core.prompts import ChatPromptTemplate\n",
    "from transformers import pipeline,AutoTokenizer,AutoModelForCausalLM\n",
    "\n",
    "# Load the text generation model\n",
    "model_id = \"gpt2\"\n",
    "\n",
    "tokenizer = AutoTokenizer.from_pretrained(model_id)\n",
    "model = AutoModelForCausalLM.from_pretrained(model_id)\n",
    "pipe = pipeline(\"question-answering\", model=model, tokenizer=tokenizer, max_new_tokens=512)\n"
   ]
  },
  {
   "cell_type": "code",
   "execution_count": 17,
   "metadata": {},
   "outputs": [
    {
     "name": "stderr",
     "output_type": "stream",
     "text": [
      "Setting `pad_token_id` to `eos_token_id`:50256 for open-end generation.\n",
      "Both `max_new_tokens` (=512) and `max_length`(=512) seem to have been set. `max_new_tokens` will take precedence. Please refer to the documentation for more information. (https://huggingface.co/docs/transformers/main/en/main_classes/text_generation)\n"
     ]
    },
    {
     "name": "stdout",
     "output_type": "stream",
     "text": [
      "Question:generate minutes of meeting for this conversation:Answer :\n",
      "Alice: Good morning, everyone. Thanks for making it to the meeting. We have a few key points to cover today. First, I’d like to get an update on the development progress. Bob, how are things going on your end?\n",
      "\n",
      "Bob: Good morning, Alice. The development is on track. We’ve just finished the beta version of the new feature, and it’s ready for initial testing. However, we’ve encountered a few minor bugs that need fixing, which might take an extra couple of days.\n",
      "\n",
      "Alice: That sounds promising. Do you anticipate any major roadblocks that could delay the launch?\n",
      "\n",
      "Bob: No major roadblocks, but we need to ensure thorough testing to catch any issues before the release. I’ve also allocated extra resources to expedite the debugging process.\n",
      "\n",
      "Alice: Great to hear. Carol, how are the marketing preparations coming along?\n",
      "\n",
      "Carol: Good morning, everyone. We’re gearing up for the product launch. The marketing campaign is in its final stages. We have the social media strategy ready, and the email campaigns are scheduled. I’m working closely with the design team to finalize the promotional materials.\n",
      "\n",
      "Alice: Excellent. Have you planned any special promotions or events for the launch?\n",
      "\n",
      "Carol: Yes, we’re planning a live demo event next week, and we’ve lined up a few influencers to help spread the word. Additionally, we’ll be running a limited-time discount for early adopters to generate buzz and encourage quick sign-ups.\n",
      "\n",
      "Alice: That sounds comprehensive. Bob, do you think the development team can support the demo event next week in case we run into any technical issues?\n",
      "\n",
      "Bob: Absolutely. I’ll make sure we have a couple of team members on standby during the event to handle any technical problems that might arise.\n",
      "\n",
      "Alice: Perfect. Lastly, let’s discuss the timeline. Assuming we fix the bugs and the testing goes smoothly, are we still on track for the launch date?\n",
      "\n",
      "Bob: Yes, if everything goes as planned, we should be able to launch on the scheduled date. We’re pushing hard to make sure there are no delays.\n",
      "\n",
      "Carol: From a marketing perspective, we’re all set to align with the launch date. Everything is synced up to go live as soon as we get the green light from the development team.\n",
      "\n",
      "Alice: Wonderful. Let’s aim to reconvene later this week for a final check-in before the launch. Thanks for the updates, everyone. Let’s keep up the good work.\n",
      "\n",
      "Bob: Sounds good. I’ll keep you posted on the progress.\n",
      "\n",
      "Carol: Thanks, Alice. Looking forward to a successful launch.\n",
      "\n",
      "Alice: Great. Meeting adjourned. Have a productive day, everyone!\n",
      " went great. What's most important is the experience. Alice, if you had to choose your subject matter, what is the most relevant one?\n",
      "\n",
      "Alice: Thanks for talking to us about my question. One of the challenges we have is that our customers always ask us what kind of phone we have. We are not the first company that asks us.\n",
      "\n",
      "Bob: We have a lot of other things right now. We need to figure out how to communicate to our customers at the moment that we are going to have one of the best phones, our best software in the world, and that that is a problem. Our biggest challenge is communicating clearly, and getting people to understand the significance of one of our products. We don’t expect them to understand our focus on their needs.\n",
      "\n",
      "Alice: Let me ask about a couple of other things that may make sense for us to address this issue. We have a partnership with Microsoft. Will you talk about that?\n",
      "\n",
      "Bob: Well, First of all, we will be looking into the benefits of the Microsoft Surface. It may be one of the best devices of the year, but the design and manufacturing of it will never take off. It may look like the Surface Pro with three touch pads which can last years in our hands.\n",
      "\n",
      "Secondly, I want to stress that we are using the same hardware, and we have always been developing a wide range of products. As you can see, I am really impressed at where we have come. First of all, it is a true world, and all of us are on the same level of expectations because we rely more on our own experiences. However, I think that many of us are taking things further to make the experience more meaningful. For this reason, we are looking into the same thing that we had with the Lumia 640. I think it will help us to keep making good quality devices.\n",
      "\n",
      "We are actually seeing several different things coming together in the next two months. On February 17th, and on February 24th. Next month we are taking a look within Microsoft about what we could do with that time frame. We are going to really focus on trying to make sure we are still developing to the best of our capabilities. We have done some work in the development of the Lumia 610 at this month's GDC this year, and the phone has now shipped to many in a number of different areas. We also want to move to work with Nokia to really build and push devices in different markets and areas\n"
     ]
    }
   ],
   "source": [
    "\n",
    "\n",
    "prompt=ChatPromptTemplate.from_messages(\n",
    "    [\n",
    "        (\"system\",\"You are a helpful assistant. Please response to the user queries\"),\n",
    "        (\"user\",\"Question:{question}\")\n",
    "    ]\n",
    ")\n",
    "\n",
    "\n",
    "generated_text = pipe(prompt + conv, max_length=512, num_return_sequences=1)[0][\"generated_text\"]\n",
    "print(generated_text)\n"
   ]
  },
  {
   "cell_type": "code",
   "execution_count": null,
   "metadata": {},
   "outputs": [],
   "source": []
  }
 ],
 "metadata": {
  "kernelspec": {
   "display_name": "base",
   "language": "python",
   "name": "python3"
  },
  "language_info": {
   "codemirror_mode": {
    "name": "ipython",
    "version": 3
   },
   "file_extension": ".py",
   "mimetype": "text/x-python",
   "name": "python",
   "nbconvert_exporter": "python",
   "pygments_lexer": "ipython3",
   "version": "3.11.7"
  }
 },
 "nbformat": 4,
 "nbformat_minor": 2
}
